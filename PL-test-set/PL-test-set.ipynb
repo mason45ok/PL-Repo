{
 "cells": [
  {
   "cell_type": "code",
   "execution_count": 1,
   "metadata": {},
   "outputs": [],
   "source": [
    "import pandas as pd\n",
    "\n",
    "# 讀取Twitch平台的直播統計數據\n",
    "df = pd.read_csv('Twitch_game_data.csv',encoding='MacRoman')\n",
    "\n",
    "# 分年份進行拆分(2016 & 2021)\n",
    "df_2016 = df[df['Year'] == 2016]\n",
    "df_2021 = df[df['Year'] == 2021]\n",
    "df_2016_7 = df_2016[df_2016['Month'] == 7]\n",
    "df_2021_7 = df_2021[df_2021['Month'] == 7]\n",
    "\n",
    "# 存檔為新的CSV file\n",
    "df_2016_7.to_csv('data_2016.csv', index=False)\n",
    "df_2021_7.to_csv('data_2021.csv', index=False)"
   ]
  },
  {
   "cell_type": "code",
   "execution_count": 2,
   "metadata": {},
   "outputs": [
    {
     "name": "stdout",
     "output_type": "stream",
     "text": [
      "The detected encoding is: MacRoman with confidence 0.7299832658569501\n"
     ]
    }
   ],
   "source": [
    "import chardet\n",
    "\n",
    "# 設定CSV file位置\n",
    "file_path = 'Twitch_game_data.csv'\n",
    "\n",
    "# 確認encoder\n",
    "with open(file_path, 'rb') as f:\n",
    "    result = chardet.detect(f.read())\n",
    "\n",
    "print(f\"The detected encoding is: {result['encoding']} with confidence {result['confidence']}\")\n"
   ]
  },
  {
   "cell_type": "code",
   "execution_count": 3,
   "metadata": {},
   "outputs": [
    {
     "name": "stdout",
     "output_type": "stream",
     "text": [
      "{'The Sims 4', 'Counter-Strike: Global Offensive', 'Rocket League', 'Life is Strange', 'Magic: The Gathering', 'SMITE', 'Dark Souls', 'The Witcher 3: Wild Hunt', 'Dead by Daylight', 'Roblox', 'Grand Theft Auto V', 'Warcraft III', 'Talk Shows & Podcasts', \"Demon's Souls\", 'Terraria', 'League of Legends', 'Diablo III', 'RuneScape', 'The Legend of Zelda: Ocarina of Time', 'Summoners War: Sky Arena', 'Hearthstone', 'Guild Wars 2', 'Super Smash Bros. Melee', 'Left 4 Dead 2', 'Pok<U+00E9>mon GO', 'Dota 2', 'DayZ', 'Music', 'Bloodborne', 'Poker', 'World of Tanks', 'Super Mario 64', \"Garry's Mod\", 'World of Warships', 'Overwatch', 'StarCraft II', 'Minecraft', 'RimWorld', 'Dark Souls III', 'Clash Royale', 'Kartrider', 'The Elder Scrolls Online', 'Euro Truck Simulator 2', 'Mario Kart 8', 'Black Desert Online', 'Path of Exile', 'Street Fighter V', 'Warframe', 'Games + Demos', '7 Days to Die', 'World of Warcraft', 'Super Mario World', 'Heroes of the Storm', 'Outlast', 'The Forest', 'Dungeons & Dragons', 'Tibia', 'The Elder Scrolls V: Skyrim', 'osu!', 'Rust', \"Tom Clancy's Rainbow Six Siege\", 'Battlefield 4', 'Retro', 'MapleStory'}\n"
     ]
    }
   ],
   "source": [
    "import pandas as pd\n",
    "\n",
    "# 讀取2016年的file\n",
    "df1 = pd.read_csv('data_2016.csv')\n",
    "\n",
    "# 讀取2021年的file\n",
    "df2 = pd.read_csv('data_2021.csv')\n",
    "\n",
    "# 將\"game\"的內容轉為set\n",
    "games1 = set(df1['Game'].tolist())\n",
    "games2 = set(df2['Game'].tolist())\n",
    "\n",
    "# 整合內容\n",
    "intersection = games1 & games2\n",
    "\n",
    "# 輸出仍然是熱門的遊戲長青樹(持續有在Twitch平台熱門)\n",
    "print(intersection)"
   ]
  }
 ],
 "metadata": {
  "kernelspec": {
   "display_name": "Python 3",
   "language": "python",
   "name": "python3"
  },
  "language_info": {
   "codemirror_mode": {
    "name": "ipython",
    "version": 3
   },
   "file_extension": ".py",
   "mimetype": "text/x-python",
   "name": "python",
   "nbconvert_exporter": "python",
   "pygments_lexer": "ipython3",
   "version": "3.11.9"
  },
  "orig_nbformat": 4
 },
 "nbformat": 4,
 "nbformat_minor": 2
}
