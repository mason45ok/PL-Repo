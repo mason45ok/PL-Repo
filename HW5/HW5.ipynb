{
 "cells": [
  {
   "cell_type": "code",
   "execution_count": null,
   "metadata": {},
   "outputs": [],
   "source": [
    "pip install nltk"
   ]
  },
  {
   "cell_type": "code",
   "execution_count": 4,
   "metadata": {},
   "outputs": [],
   "source": [
    "import nltk\n",
    "\n",
    "# 下載 nltk 的停用詞庫\n",
    "# nltk.download('stopwords')\n",
    "# nltk.download('punkt')\n",
    "# 讀取文本文件\n",
    "with open('Harry Potter and The Half-Blood Prince.txt', 'r', encoding='utf-8') as file:\n",
    "    text = file.read()\n",
    "\n",
    "# 使用 nltk 進行分詞\n",
    "from nltk.corpus import stopwords\n",
    "\n",
    "stop_words = set(stopwords.words('english'))  # 英文停用詞，如果是其他語言需要更改\n",
    "words = nltk.word_tokenize(text)\n",
    "filtered_words = [word.lower() for word in words if word.isalpha() and word.lower() not in stop_words]\n",
    "filtered_words = [word for word in filtered_words if word.lower() != 'said']\n",
    "filtered_words\n",
    "# 將分詞後的文字串接成一個字串\n",
    "filtered_text = ' '.join(filtered_words)\n",
    "f=open('cleanedtext.txt','w',encoding='UTF-8')\n",
    "f.write(filtered_text)\n",
    "f.close()"
   ]
  }
 ],
 "metadata": {
  "kernelspec": {
   "display_name": "Python 3",
   "language": "python",
   "name": "python3"
  },
  "language_info": {
   "codemirror_mode": {
    "name": "ipython",
    "version": 3
   },
   "file_extension": ".py",
   "mimetype": "text/x-python",
   "name": "python",
   "nbconvert_exporter": "python",
   "pygments_lexer": "ipython3",
   "version": "3.11.6"
  }
 },
 "nbformat": 4,
 "nbformat_minor": 2
}
