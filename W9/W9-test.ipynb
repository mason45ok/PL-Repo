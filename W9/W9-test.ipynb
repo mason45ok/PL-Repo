{
 "cells": [
  {
   "cell_type": "code",
   "execution_count": 35,
   "metadata": {},
   "outputs": [
    {
     "name": "stdout",
     "output_type": "stream",
     "text": [
      "10/7（五）巴勒斯坦哈瑪斯（Hamas）對以色列（Israel）發動攻勢，以色列也隨即全面反擊。以下透過八個問題，來理解以色列和巴勒斯坦之間長達75年的漫長衝突。\n",
      "巴勒斯坦 （Palestina） 被猶太人視為故鄉，卻也住著巴勒斯坦阿拉伯人；耶路撒冷 （Jerusalém） 則被猶太（judaísmo）、基督 （cristianismo）、伊斯蘭教 （islamismo） 都視為聖城。\n",
      "1948年以色列正式在巴勒斯坦建國，隨即遭到以約旦 （Jordânia） 為首的周邊阿拉伯國家進攻，第一次以阿戰爭 （Guerra árabe-israelense de 1948）爆發。以軍擊退阿拉伯國家的圍攻，確保以色列國的建立；約旦和埃及軍則分別控制約旦河西岸 （Cisjordânia） 及加薩走廊 （Faixa de Gaza）。戰後有超過五萬巴勒斯坦阿拉伯人逃往約旦河西岸、加薩走廊或周圍鄰國避難，再也沒能回到原本世代居住的地方。\n",
      "1967年六日戰爭 （Guerra dos seis dias） 爆發，以軍不但再次擊退阿拉伯國家的圍攻，還佔領了約旦河西岸、加薩走廊、西奈半島 （Península de Sinai） 及戈蘭高地 （Colinas de Golã） 等地。這場戰爭深刻改變了整個區域的情勢，此後以色列逐步在約旦河西岸及加薩走廊擴張其屯墾區。\n",
      "根據《舊約聖經》，巴勒斯坦是上帝應許之地，被猶太人視為故土。古代相繼被亞述 （assírios）、巴比倫 （babilónios）、波斯 （persas）、馬其頓 （macedónios） 及羅馬人 （romanos） 入侵。自西元七世紀伊斯蘭教興起後，此地開始定居阿拉伯人。自十六世紀初以降，此地受鄂圖曼土耳其帝國 （Império Otomano） 統治。第一次世界大戰時，英法兩國秘密協議戰後瓜分鄂圖曼土耳其帝國在中東的領土。戰後巴勒斯坦受英國託管，並開始有許多猶太人移入。第二次世界大戰期間，高達六百萬猶太人被納粹迫害，促使猶太復國運動更加盛行。\n",
      "根據聯合國在1947年提出的《巴勒斯坦分治方案》（Plano da ONU para a partilha da Palestina de 1947），以色列國和巴勒斯坦國分別都在巴勒斯坦建立，各自佔有約一半的領土。耶路撒冷則受聯合國託管。不過這個方案從未被執行。\n"
     ]
    }
   ],
   "source": [
    "from bs4 import BeautifulSoup as bs\n",
    "import requests\n",
    "import re\n",
    "\n",
    "def remove_html_tags(text):\n",
    "    clean = re.compile('<.*?>')\n",
    "    return re.sub(clean, '', text)\n",
    "\n",
    "url = \"https://www.storm.mg/lifestyle/4884856?page=1\"\n",
    "headers = {\n",
    "    \"user-agent\": \"Mozilla/5.0 (Windows NT 10.0; Win64; x64) AppleWebKit/537.36 (KHTML, like Gecko) Chrome/118.0.0.0 Safari/537.36\"\n",
    "}\n",
    "\n",
    "url2 = \"https://www.storm.mg/lifestyle/4884856?page=2\"\n",
    "headers2 = {\n",
    "    \"user-agent\": \"Mozilla/5.0 (Windows NT 10.0; Win64; x64) AppleWebKit/537.36 (KHTML, like Gecko) Chrome/118.0.0.0 Safari/537.36\"\n",
    "}\n",
    "\n",
    "res = requests.get(url, headers=headers)\n",
    "res2 = requests.get(url2, headers=headers2)\n",
    "soup = bs(res.text, \"lxml\")\n",
    "soup2 = bs(res2.text, \"lxml\")\n",
    "data = []\n",
    "data2 = []\n",
    "\n",
    "for x in range(61, 67):\n",
    "    selector = f'p[aid=\"{x}\"]'\n",
    "    data += soup.select(selector)\n",
    "    data2 += soup2.select(selector)\n",
    "\n",
    "dataC = [remove_html_tags(item.text) for item in data]\n",
    "dataC2 = [remove_html_tags(item.text) for item in data2]\n",
    "\n",
    "dataC += dataC2\n",
    "\n",
    "for item in dataC:\n",
    "    print(item)\n"
   ]
  }
 ],
 "metadata": {
  "kernelspec": {
   "display_name": "Python 3",
   "language": "python",
   "name": "python3"
  },
  "language_info": {
   "codemirror_mode": {
    "name": "ipython",
    "version": 3
   },
   "file_extension": ".py",
   "mimetype": "text/x-python",
   "name": "python",
   "nbconvert_exporter": "python",
   "pygments_lexer": "ipython3",
   "version": "3.11.6"
  }
 },
 "nbformat": 4,
 "nbformat_minor": 2
}
