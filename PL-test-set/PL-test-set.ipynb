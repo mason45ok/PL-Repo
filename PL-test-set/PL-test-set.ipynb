{
 "cells": [
  {
   "cell_type": "code",
   "execution_count": null,
   "metadata": {},
   "outputs": [],
   "source": [
    "import pandas as pd\n",
    "\n",
    "# 读取CSV文件\n",
    "df = pd.read_csv('Twitch_game_data.csv',encoding='MacRoman')\n",
    "\n",
    "# 拆分数据为2016年和2021年\n",
    "df_2016 = df[df['Year'] == 2016]\n",
    "df_2021 = df[df['Year'] == 2021]\n",
    "df_2016_7 = df_2016[df_2016['Month'] == 7]\n",
    "df_2021_7 = df_2021[df_2021['Month'] == 7]\n",
    "# 可选：将拆分后的数据保存为两个新的CSV文件\n",
    "df_2016_7.to_csv('data_2016.csv', index=False)\n",
    "df_2021_7.to_csv('data_2021.csv', index=False)"
   ]
  },
  {
   "cell_type": "code",
   "execution_count": null,
   "metadata": {},
   "outputs": [],
   "source": [
    "import chardet\n",
    "\n",
    "# 指定CSV文件的路径\n",
    "file_path = 'Twitch_game_data.csv'\n",
    "\n",
    "# 使用chardet检测文件编码\n",
    "with open(file_path, 'rb') as f:\n",
    "    result = chardet.detect(f.read())\n",
    "\n",
    "# 输出检测结果\n",
    "print(f\"The detected encoding is: {result['encoding']} with confidence {result['confidence']}\")\n"
   ]
  },
  {
   "cell_type": "code",
   "execution_count": null,
   "metadata": {},
   "outputs": [],
   "source": [
    "import pandas as pd\n",
    "\n",
    "# 读取第一个CSV文件\n",
    "df1 = pd.read_csv('data_2016.csv')\n",
    "\n",
    "# 读取第二个CSV文件\n",
    "df2 = pd.read_csv('data_2021.csv')\n",
    "\n",
    "# 提取第一个CSV文件中\"Game\"列的值并转换为集合\n",
    "games1 = set(df1['Game'].tolist())\n",
    "\n",
    "# 提取第二个CSV文件中\"Game\"列的值并转换为集合\n",
    "games2 = set(df2['Game'].tolist())\n",
    "\n",
    "# 计算两个集合的交集\n",
    "intersection = games1 & games2\n",
    "\n",
    "# 输出交集的数量\n",
    "print(intersection)"
   ]
  }
 ],
 "metadata": {
  "kernelspec": {
   "display_name": "Python 3",
   "language": "python",
   "name": "python3"
  },
  "language_info": {
   "name": "python",
   "version": "3.11.5"
  },
  "orig_nbformat": 4
 },
 "nbformat": 4,
 "nbformat_minor": 2
}
