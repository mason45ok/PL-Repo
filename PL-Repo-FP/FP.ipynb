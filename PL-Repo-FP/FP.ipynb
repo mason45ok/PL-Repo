{
 "cells": [
  {
   "cell_type": "code",
   "execution_count": 20,
   "metadata": {},
   "outputs": [
    {
     "name": "stdout",
     "output_type": "stream",
     "text": [
      "CSV 文件已保存到 flowers_data.csv\n"
     ]
    }
   ],
   "source": [
    "#request 原始碼\n",
    "import csv\n",
    "from bs4 import BeautifulSoup \n",
    "import requests\n",
    "import re\n",
    "\n",
    "url=\"https://silviayellow.pixnet.net/blog/post/354111760\"\n",
    "headers={\n",
    "    \"user-agent\":\"Mozilla/5.0 (Windows NT 10.0; Win64; x64) AppleWebKit/537.36 (KHTML, like Gecko) Chrome/118.0.0.0 Safari/537.36\"\n",
    "}\n",
    "\n",
    "res = requests.get(url , headers=headers)\n",
    "res.encoding = 'utf-8'\n",
    "soup = BeautifulSoup(res.text, \"html.parser\")\n",
    "# 抓取內容\n",
    "contents = soup.find_all(\"td\")\n",
    "text = \"\\n\".join([content.get_text() for content in contents])\n",
    "cleaned_text = re.sub(r'[A-Za-z!@#$%^&*()_+{}[\\]:;\"\\'<>,.?~\\\\/\\-|=]', '', text)\n",
    "cleaned_text=cleaned_text.replace('\\n', '?')\n",
    "cleaned_text=cleaned_text.replace('?花名?項目?花語?', '')\n",
    "cleaned_text=cleaned_text.replace('?397?黃鬱金香：名聲?花語?', '')\n",
    "cleaned_text = re.sub(r'花名.*$', '', cleaned_text)\n",
    "data_list = cleaned_text.split('?')\n",
    "\n",
    "# 移除可能的空字串\n",
    "data_list = [item.strip() for item in data_list if item.strip()]\n",
    "#新的二維陣列\n",
    "new_list = [data_list[i:i+4] for i in range(0, len(data_list), 4)]\n",
    "\n",
    "#存成csv\n",
    "csv_file_path = 'flowers_data.csv'\n",
    "\n",
    "# 使用 csv 模塊寫入 CSV 文件\n",
    "with open(csv_file_path, 'w', newline='', encoding='utf-8') as csvfile:\n",
    "    csv_writer = csv.writer(csvfile)    \n",
    "    # 寫入數據\n",
    "    csv_writer.writerows(new_list)\n",
    "\n",
    "print(f'CSV 文件已保存到 {csv_file_path}')"
   ]
  },
  {
   "cell_type": "code",
   "execution_count": 52,
   "metadata": {},
   "outputs": [
    {
     "name": "stdout",
     "output_type": "stream",
     "text": [
      "火鶴花合歡花火鶴白: 純潔、平謐、帶來安泰\n"
     ]
    }
   ],
   "source": [
    "import csv\n",
    "\n",
    "# 打開CSV文件\n",
    "with open('flowers_data.csv', 'r', encoding='utf-8') as file:\n",
    "    # 讀取CSV文件内容\n",
    "    csv_reader = csv.reader(file)\n",
    "    \n",
    "    # 初始化一个空字典\n",
    "    data = {}\n",
    "    \n",
    "    # 遍歷CSV文件的每一行\n",
    "    for row in csv_reader:\n",
    "        # 將第一个字段作為鍵，第三个字段作為值添加到字典中\n",
    "        data[row[1]] = row[3]\n",
    "# 獲取用户输入的搜尋文本\n",
    "searchtext = input(\"請輸入搜尋文本: \")\n",
    "findable = 0\n",
    "\n",
    "# 在字典的鍵中查找匹配項\n",
    "for flower_name in data.keys():\n",
    "    if searchtext == flower_name:\n",
    "        print(flower_name + \": \" + data[flower_name])\n",
    "        findable = 1\n",
    "\n",
    "if findable == 0:\n",
    "    print(\"未找到花卉\")\n"
   ]
  }
 ],
 "metadata": {
  "kernelspec": {
   "display_name": "Python 3",
   "language": "python",
   "name": "python3"
  },
  "language_info": {
   "codemirror_mode": {
    "name": "ipython",
    "version": 3
   },
   "file_extension": ".py",
   "mimetype": "text/x-python",
   "name": "python",
   "nbconvert_exporter": "python",
   "pygments_lexer": "ipython3",
   "version": "3.11.7"
  }
 },
 "nbformat": 4,
 "nbformat_minor": 2
}
