{
 "cells": [
  {
   "cell_type": "code",
   "execution_count": 20,
   "metadata": {},
   "outputs": [
    {
     "name": "stdout",
     "output_type": "stream",
     "text": [
      "CSV 文件已保存到 flowers_data.csv\n"
     ]
    }
   ],
   "source": [
    "#request 原始碼\n",
    "import csv\n",
    "from bs4 import BeautifulSoup \n",
    "import requests\n",
    "import re\n",
    "\n",
    "url=\"https://silviayellow.pixnet.net/blog/post/354111760\"\n",
    "headers={\n",
    "    \"user-agent\":\"Mozilla/5.0 (Windows NT 10.0; Win64; x64) AppleWebKit/537.36 (KHTML, like Gecko) Chrome/118.0.0.0 Safari/537.36\"\n",
    "}\n",
    "\n",
    "res = requests.get(url , headers=headers)\n",
    "res.encoding = 'utf-8'\n",
    "soup = BeautifulSoup(res.text, \"html.parser\")\n",
    "# 抓取內容\n",
    "contents = soup.find_all(\"td\")\n",
    "text = \"\\n\".join([content.get_text() for content in contents])\n",
    "cleaned_text = re.sub(r'[A-Za-z!@#$%^&*()_+{}[\\]:;\"\\'<>,.?~\\\\/\\-|=]', '', text)\n",
    "cleaned_text=cleaned_text.replace('\\n', '?')\n",
    "cleaned_text=cleaned_text.replace('?花名?項目?花語?', '')\n",
    "cleaned_text=cleaned_text.replace('?397?黃鬱金香：名聲?花語?', '')\n",
    "cleaned_text = re.sub(r'花名.*$', '', cleaned_text)\n",
    "data_list = cleaned_text.split('?')\n",
    "\n",
    "# 移除可能的空字串\n",
    "data_list = [item.strip() for item in data_list if item.strip()]\n",
    "#新的二維陣列\n",
    "new_list = [data_list[i:i+4] for i in range(0, len(data_list), 4)]\n",
    "\n",
    "#存成csv\n",
    "csv_file_path = 'flowers_data.csv'\n",
    "\n",
    "# 使用 csv 模塊寫入 CSV 文件\n",
    "with open(csv_file_path, 'w', newline='', encoding='utf-8') as csvfile:\n",
    "    csv_writer = csv.writer(csvfile)    \n",
    "    # 寫入數據\n",
    "    csv_writer.writerows(new_list)\n",
    "\n",
    "print(f'CSV 文件已保存到 {csv_file_path}')"
   ]
  }
 ],
 "metadata": {
  "kernelspec": {
   "display_name": "Python 3",
   "language": "python",
   "name": "python3"
  },
  "language_info": {
   "codemirror_mode": {
    "name": "ipython",
    "version": 3
   },
   "file_extension": ".py",
   "mimetype": "text/x-python",
   "name": "python",
   "nbconvert_exporter": "python",
   "pygments_lexer": "ipython3",
   "version": "3.11.6"
  }
 },
 "nbformat": 4,
 "nbformat_minor": 2
}
